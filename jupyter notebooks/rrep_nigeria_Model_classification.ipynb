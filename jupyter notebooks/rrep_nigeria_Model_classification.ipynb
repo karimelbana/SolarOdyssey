{
 "cells": [
  {
   "cell_type": "code",
   "execution_count": 1,
   "metadata": {
    "colab": {
     "base_uri": "https://localhost:8080/"
    },
    "executionInfo": {
     "elapsed": 28333,
     "status": "ok",
     "timestamp": 1678439841509,
     "user": {
      "displayName": "Karim Elbana",
      "userId": "03461589175412467069"
     },
     "user_tz": -60
    },
    "id": "swsEYm3YgBH8",
    "outputId": "b1f373fe-2f61-4ab0-cd92-f24fe6bf87a8"
   },
   "outputs": [],
   "source": [
    "# # Mount GDrive\n",
    "# from google.colab import drive\n",
    "# drive.mount('/content/drive')"
   ]
  },
  {
   "cell_type": "code",
   "execution_count": 2,
   "metadata": {
    "executionInfo": {
     "elapsed": 2484,
     "status": "ok",
     "timestamp": 1678439847843,
     "user": {
      "displayName": "Karim Elbana",
      "userId": "03461589175412467069"
     },
     "user_tz": -60
    },
    "id": "iWzzNxKvrGg6"
   },
   "outputs": [],
   "source": [
    "import numpy as np\n",
    "import pandas as pd\n",
    "from tqdm import tqdm\n",
    "from PIL import Image\n",
    "\n",
    "from tensorflow.keras import Sequential, layers, models\n",
    "from tensorflow.keras import optimizers\n",
    "from tensorflow.keras.utils import to_categorical\n",
    "from tensorflow.keras.callbacks import EarlyStopping\n",
    "from tensorflow.keras.layers.experimental.preprocessing import Rescaling\n",
    "from sklearn.model_selection import train_test_split\n",
    "\n",
    "from tensorflow.keras.applications.vgg16 import VGG16\n",
    "from tensorflow.keras.applications.vgg16 import preprocess_input\n",
    "from tensorflow.keras.preprocessing.image import ImageDataGenerator\n",
    "\n",
    "#from tensorflow.keras.models import Sequential, Model\n",
    "#from tensorflow.keras import layers, optimizers, callbacks\n",
    "\n",
    "#from keras.applications.resnet50 import ResNet50\n",
    "from tensorflow.keras.applications.resnet50 import ResNet50\n",
    "from tensorflow.keras.applications.resnet50 import preprocess_input as preproc_res\n",
    "\n",
    "\n",
    "import matplotlib.pyplot as plt\n",
    "\n",
    "#Put Colab in the context of this challenge\n",
    "import os"
   ]
  },
  {
   "cell_type": "code",
   "execution_count": 3,
   "metadata": {
    "colab": {
     "base_uri": "https://localhost:8080/",
     "height": 35
    },
    "executionInfo": {
     "elapsed": 549,
     "status": "ok",
     "timestamp": 1678439963719,
     "user": {
      "displayName": "Karim Elbana",
      "userId": "03461589175412467069"
     },
     "user_tz": -60
    },
    "id": "y-H89hqw0U2l",
    "outputId": "c83584ca-c078-4c92-b6ff-e001ca03a90a"
   },
   "outputs": [
    {
     "data": {
      "text/plain": [
       "'/Users/karimelbana/SolarOdyssey/rrep-nigeria'"
      ]
     },
     "execution_count": 3,
     "metadata": {},
     "output_type": "execute_result"
    }
   ],
   "source": [
    "pwd"
   ]
  },
  {
   "cell_type": "code",
   "execution_count": 4,
   "metadata": {
    "executionInfo": {
     "elapsed": 4,
     "status": "ok",
     "timestamp": 1678439966412,
     "user": {
      "displayName": "Karim Elbana",
      "userId": "03461589175412467069"
     },
     "user_tz": -60
    },
    "id": "MW0VgbZ7z-t3"
   },
   "outputs": [],
   "source": [
    "#os.chdir(\"drive/MyDrive/SolarOdyssey/rrep_nigeria\")"
   ]
  },
  {
   "cell_type": "code",
   "execution_count": 5,
   "metadata": {
    "colab": {
     "base_uri": "https://localhost:8080/",
     "height": 35
    },
    "executionInfo": {
     "elapsed": 8,
     "status": "ok",
     "timestamp": 1678439974911,
     "user": {
      "displayName": "Karim Elbana",
      "userId": "03461589175412467069"
     },
     "user_tz": -60
    },
    "id": "oHq6rX6r0XRj",
    "outputId": "d39edd9d-fbd8-48d8-f70b-3558c3d700c8"
   },
   "outputs": [
    {
     "data": {
      "text/plain": [
       "'/Users/karimelbana/SolarOdyssey/rrep-nigeria'"
      ]
     },
     "execution_count": 5,
     "metadata": {},
     "output_type": "execute_result"
    }
   ],
   "source": [
    "pwd"
   ]
  },
  {
   "cell_type": "code",
   "execution_count": 7,
   "metadata": {
    "colab": {
     "base_uri": "https://localhost:8080/",
     "height": 386
    },
    "executionInfo": {
     "elapsed": 550,
     "status": "ok",
     "timestamp": 1678440139967,
     "user": {
      "displayName": "Karim Elbana",
      "userId": "03461589175412467069"
     },
     "user_tz": -60
    },
    "id": "Jq91s5u5g5ea",
    "outputId": "929e8c9a-524b-411c-f31b-1b4492b9d406"
   },
   "outputs": [
    {
     "data": {
      "text/html": [
       "<div>\n",
       "<style scoped>\n",
       "    .dataframe tbody tr th:only-of-type {\n",
       "        vertical-align: middle;\n",
       "    }\n",
       "\n",
       "    .dataframe tbody tr th {\n",
       "        vertical-align: top;\n",
       "    }\n",
       "\n",
       "    .dataframe thead th {\n",
       "        text-align: right;\n",
       "    }\n",
       "</style>\n",
       "<table border=\"1\" class=\"dataframe\">\n",
       "  <thead>\n",
       "    <tr style=\"text-align: right;\">\n",
       "      <th></th>\n",
       "      <th>Unnamed: 0.1</th>\n",
       "      <th>Unnamed: 0</th>\n",
       "      <th>index</th>\n",
       "      <th>Id</th>\n",
       "      <th>Lon</th>\n",
       "      <th>Lat</th>\n",
       "      <th>Country</th>\n",
       "      <th>State</th>\n",
       "      <th>LGA</th>\n",
       "      <th>Ward</th>\n",
       "      <th>...</th>\n",
       "      <th>Generator capacity (kw)</th>\n",
       "      <th>PV size(kW)</th>\n",
       "      <th>Battery capacity (kWh)</th>\n",
       "      <th>Demand</th>\n",
       "      <th>Electr_type_phase_1</th>\n",
       "      <th>Electr_type_phase_2</th>\n",
       "      <th>Electr_type_phase_3</th>\n",
       "      <th>Distance_m</th>\n",
       "      <th>demand_cat_4</th>\n",
       "      <th>demand_cat_2</th>\n",
       "    </tr>\n",
       "  </thead>\n",
       "  <tbody>\n",
       "    <tr>\n",
       "      <th>0</th>\n",
       "      <td>0</td>\n",
       "      <td>1654.0</td>\n",
       "      <td>146.0</td>\n",
       "      <td>40733</td>\n",
       "      <td>4.742796</td>\n",
       "      <td>13.004795</td>\n",
       "      <td>Nigeria</td>\n",
       "      <td>Sokoto</td>\n",
       "      <td>Silame</td>\n",
       "      <td>MARAFA WEST</td>\n",
       "      <td>...</td>\n",
       "      <td>194.0</td>\n",
       "      <td>196.0</td>\n",
       "      <td>448.0</td>\n",
       "      <td>279.0</td>\n",
       "      <td>none</td>\n",
       "      <td>grid</td>\n",
       "      <td>grid</td>\n",
       "      <td>3870.0</td>\n",
       "      <td>4</td>\n",
       "      <td>1</td>\n",
       "    </tr>\n",
       "    <tr>\n",
       "      <th>1</th>\n",
       "      <td>1</td>\n",
       "      <td>954.0</td>\n",
       "      <td>250.0</td>\n",
       "      <td>38729</td>\n",
       "      <td>8.794116</td>\n",
       "      <td>9.100529</td>\n",
       "      <td>Nigeria</td>\n",
       "      <td>Plateau</td>\n",
       "      <td>Bokkos</td>\n",
       "      <td>TOFF</td>\n",
       "      <td>...</td>\n",
       "      <td>151.0</td>\n",
       "      <td>160.0</td>\n",
       "      <td>352.0</td>\n",
       "      <td>209.0</td>\n",
       "      <td>none</td>\n",
       "      <td>mini-grid</td>\n",
       "      <td>intercon</td>\n",
       "      <td>36750.0</td>\n",
       "      <td>4</td>\n",
       "      <td>1</td>\n",
       "    </tr>\n",
       "    <tr>\n",
       "      <th>2</th>\n",
       "      <td>2</td>\n",
       "      <td>1139.0</td>\n",
       "      <td>435.0</td>\n",
       "      <td>39400</td>\n",
       "      <td>9.598031</td>\n",
       "      <td>8.457592</td>\n",
       "      <td>Nigeria</td>\n",
       "      <td>Plateau</td>\n",
       "      <td>Shendam</td>\n",
       "      <td>AZARA</td>\n",
       "      <td>...</td>\n",
       "      <td>147.0</td>\n",
       "      <td>188.0</td>\n",
       "      <td>392.0</td>\n",
       "      <td>210.0</td>\n",
       "      <td>mini-grid</td>\n",
       "      <td>mini-grid</td>\n",
       "      <td>intercon</td>\n",
       "      <td>37260.0</td>\n",
       "      <td>4</td>\n",
       "      <td>1</td>\n",
       "    </tr>\n",
       "    <tr>\n",
       "      <th>3</th>\n",
       "      <td>3</td>\n",
       "      <td>1338.0</td>\n",
       "      <td>90.0</td>\n",
       "      <td>34201</td>\n",
       "      <td>4.450469</td>\n",
       "      <td>6.988445</td>\n",
       "      <td>Nigeria</td>\n",
       "      <td>Ogun</td>\n",
       "      <td>Ijebu East</td>\n",
       "      <td>OSUN</td>\n",
       "      <td>...</td>\n",
       "      <td>124.0</td>\n",
       "      <td>136.0</td>\n",
       "      <td>312.0</td>\n",
       "      <td>178.0</td>\n",
       "      <td>none</td>\n",
       "      <td>none</td>\n",
       "      <td>grid</td>\n",
       "      <td>41620.0</td>\n",
       "      <td>3</td>\n",
       "      <td>1</td>\n",
       "    </tr>\n",
       "    <tr>\n",
       "      <th>4</th>\n",
       "      <td>4</td>\n",
       "      <td>92.0</td>\n",
       "      <td>92.0</td>\n",
       "      <td>10451</td>\n",
       "      <td>9.020765</td>\n",
       "      <td>6.159864</td>\n",
       "      <td>Nigeria</td>\n",
       "      <td>Cross River</td>\n",
       "      <td>Boki</td>\n",
       "      <td>ABO</td>\n",
       "      <td>...</td>\n",
       "      <td>261.0</td>\n",
       "      <td>326.0</td>\n",
       "      <td>664.0</td>\n",
       "      <td>361.0</td>\n",
       "      <td>none</td>\n",
       "      <td>mini-grid</td>\n",
       "      <td>intercon</td>\n",
       "      <td>20970.0</td>\n",
       "      <td>4</td>\n",
       "      <td>1</td>\n",
       "    </tr>\n",
       "  </tbody>\n",
       "</table>\n",
       "<p>5 rows × 25 columns</p>\n",
       "</div>"
      ],
      "text/plain": [
       "   Unnamed: 0.1  Unnamed: 0  index     Id       Lon        Lat  Country  \\\n",
       "0             0      1654.0  146.0  40733  4.742796  13.004795  Nigeria   \n",
       "1             1       954.0  250.0  38729  8.794116   9.100529  Nigeria   \n",
       "2             2      1139.0  435.0  39400  9.598031   8.457592  Nigeria   \n",
       "3             3      1338.0   90.0  34201  4.450469   6.988445  Nigeria   \n",
       "4             4        92.0   92.0  10451  9.020765   6.159864  Nigeria   \n",
       "\n",
       "         State         LGA         Ward  ...  Generator capacity (kw)  \\\n",
       "0       Sokoto      Silame  MARAFA WEST  ...                    194.0   \n",
       "1      Plateau      Bokkos         TOFF  ...                    151.0   \n",
       "2      Plateau     Shendam        AZARA  ...                    147.0   \n",
       "3         Ogun  Ijebu East         OSUN  ...                    124.0   \n",
       "4  Cross River        Boki          ABO  ...                    261.0   \n",
       "\n",
       "   PV size(kW) Battery capacity (kWh)  Demand  Electr_type_phase_1  \\\n",
       "0        196.0                  448.0   279.0                 none   \n",
       "1        160.0                  352.0   209.0                 none   \n",
       "2        188.0                  392.0   210.0            mini-grid   \n",
       "3        136.0                  312.0   178.0                 none   \n",
       "4        326.0                  664.0   361.0                 none   \n",
       "\n",
       "   Electr_type_phase_2  Electr_type_phase_3  Distance_m  demand_cat_4  \\\n",
       "0                 grid                 grid      3870.0             4   \n",
       "1            mini-grid             intercon     36750.0             4   \n",
       "2            mini-grid             intercon     37260.0             4   \n",
       "3                 none                 grid     41620.0             3   \n",
       "4            mini-grid             intercon     20970.0             4   \n",
       "\n",
       "  demand_cat_2  \n",
       "0            1  \n",
       "1            1  \n",
       "2            1  \n",
       "3            1  \n",
       "4            1  \n",
       "\n",
       "[5 rows x 25 columns]"
      ]
     },
     "execution_count": 7,
     "metadata": {},
     "output_type": "execute_result"
    }
   ],
   "source": [
    "df_masked_cat = pd.read_csv('df_masked_cat.csv')\n",
    "df_masked_cat.head(5)"
   ]
  },
  {
   "cell_type": "code",
   "execution_count": 8,
   "metadata": {
    "executionInfo": {
     "elapsed": 6559,
     "status": "ok",
     "timestamp": 1678440173561,
     "user": {
      "displayName": "Karim Elbana",
      "userId": "03461589175412467069"
     },
     "user_tz": -60
    },
    "id": "wi3-GrNKla9j"
   },
   "outputs": [],
   "source": [
    "from os import walk\n",
    "\n",
    "data_path = './data/initial_set'\n",
    "\n",
    "f = []\n",
    "for (dirpath, dirnames, filenames) in walk(data_path):\n",
    "    f.extend(filenames)\n",
    "    break"
   ]
  },
  {
   "cell_type": "code",
   "execution_count": 9,
   "metadata": {
    "executionInfo": {
     "elapsed": 488,
     "status": "ok",
     "timestamp": 1678440307410,
     "user": {
      "displayName": "Karim Elbana",
      "userId": "03461589175412467069"
     },
     "user_tz": -60
    },
    "id": "rZ5kufJ0lpJ5"
   },
   "outputs": [],
   "source": [
    "images_ids = []\n",
    "for id in filenames:\n",
    "  id = int(id.strip('.png'))\n",
    "  images_ids.append(id)\n",
    "\n",
    "#images_ids"
   ]
  },
  {
   "cell_type": "code",
   "execution_count": 59,
   "metadata": {
    "executionInfo": {
     "elapsed": 1057,
     "status": "ok",
     "timestamp": 1678440539112,
     "user": {
      "displayName": "Karim Elbana",
      "userId": "03461589175412467069"
     },
     "user_tz": -60
    },
    "id": "k_AYZXSumUf0"
   },
   "outputs": [],
   "source": [
    "y = []\n",
    "for id in images_ids:\n",
    "  #print(id)\n",
    "  y.append(int(df_masked_cat[df_masked_cat['Id'] == id].demand_cat_2.values[0]))\n",
    "len(y)"
   ]
  },
  {
   "cell_type": "code",
   "execution_count": 61,
   "metadata": {
    "id": "BBKK-vcJ6bra"
   },
   "outputs": [],
   "source": [
    "# y_new=[]\n",
    "\n",
    "# for el in y:\n",
    "#   if el == 2:\n",
    "#     el = 0\n",
    "#   elif el == 3:\n",
    "#     el = 1\n",
    "#   else:\n",
    "#     el = 2\n",
    "#   y_new.append(el)"
   ]
  },
  {
   "cell_type": "code",
   "execution_count": 62,
   "metadata": {
    "executionInfo": {
     "elapsed": 5,
     "status": "ok",
     "timestamp": 1678440542382,
     "user": {
      "displayName": "Karim Elbana",
      "userId": "03461589175412467069"
     },
     "user_tz": -60
    },
    "id": "PsTUOibL8eWB"
   },
   "outputs": [],
   "source": [
    "from sklearn.preprocessing import LabelEncoder\n",
    "from tensorflow.keras.utils import to_categorical\n",
    "#encoder = LabelEncoder()\n",
    "#encoder.fit(y)\n",
    "#y_cat = to_categorical(encoder.transform(y))\n",
    "y_cat = to_categorical(y)"
   ]
  },
  {
   "cell_type": "code",
   "execution_count": 64,
   "metadata": {
    "executionInfo": {
     "elapsed": 3,
     "status": "ok",
     "timestamp": 1678441140347,
     "user": {
      "displayName": "Karim Elbana",
      "userId": "03461589175412467069"
     },
     "user_tz": -60
    },
    "id": "yWw6heVfW_uo"
   },
   "outputs": [],
   "source": [
    "def load_sattelite_images(data_path, data_folder, y):\n",
    "        \n",
    "    data_path = data_path\n",
    "    y = np.array(y)\n",
    "    imgs = []\n",
    "    images_path = [os.path.join(data_folder, elt) for elt in os.listdir(os.path.join(data_path)) if elt.find('.png')>0]\n",
    "    #print(images_path)    \n",
    "    \n",
    "    for path in images_path:\n",
    "        if os.path.exists(path):\n",
    "            image = Image.open(path)\n",
    "            #image = image.resize((256, 256))\n",
    "            imgs.append(np.array(image))\n",
    "\n",
    "    X = np.array(imgs)\n",
    "    #print(X.shape)\n",
    "\n",
    "    # first_split = int(len(imgs) * .6)\n",
    "    # second_split = first_split + int(len(imgs) * 0.2)\n",
    "\n",
    "    X_train, X_sub, y_train, y_sub = train_test_split(X, y, test_size=0.40, random_state=42)\n",
    "    X_val, X_test, y_val, y_test = train_test_split(X_sub, y_sub, test_size=0.20, random_state=42)\n",
    "\n",
    "    # #X_train, X_val, X_test = X[:first_split], X[first_split:second_split], X[second_split:]\n",
    "    # #y_train, y_val, y_test = y[:first_split], y[first_split:second_split], y[second_split:]\n",
    "\n",
    "    return X_train, y_train, X_val, y_val, X_test, y_test"
   ]
  },
  {
   "cell_type": "code",
   "execution_count": 65,
   "metadata": {
    "colab": {
     "base_uri": "https://localhost:8080/",
     "height": 35
    },
    "executionInfo": {
     "elapsed": 7,
     "status": "ok",
     "timestamp": 1678441142624,
     "user": {
      "displayName": "Karim Elbana",
      "userId": "03461589175412467069"
     },
     "user_tz": -60
    },
    "id": "dIRaWqxg8U72",
    "outputId": "76ba58f9-00dc-4e2c-e9ae-0f53f8bdb49e"
   },
   "outputs": [
    {
     "data": {
      "text/plain": [
       "'/Users/karimelbana/SolarOdyssey/rrep-nigeria'"
      ]
     },
     "execution_count": 65,
     "metadata": {},
     "output_type": "execute_result"
    }
   ],
   "source": [
    "pwd"
   ]
  },
  {
   "cell_type": "code",
   "execution_count": 66,
   "metadata": {
    "executionInfo": {
     "elapsed": 7873,
     "status": "ok",
     "timestamp": 1678441150493,
     "user": {
      "displayName": "Karim Elbana",
      "userId": "03461589175412467069"
     },
     "user_tz": -60
    },
    "id": "AtIbYLQ2b6Mt"
   },
   "outputs": [],
   "source": [
    "data_path = './data/initial_set'\n",
    "data_folder = 'data/initial_set'\n",
    "X_train, y_train, X_val, y_val, X_test, y_test = load_sattelite_images(data_path, data_folder, y_cat)"
   ]
  },
  {
   "cell_type": "code",
   "execution_count": 67,
   "metadata": {
    "colab": {
     "base_uri": "https://localhost:8080/"
    },
    "executionInfo": {
     "elapsed": 328,
     "status": "ok",
     "timestamp": 1678441156645,
     "user": {
      "displayName": "Karim Elbana",
      "userId": "03461589175412467069"
     },
     "user_tz": -60
    },
    "id": "uR-pLwdGy1JI",
    "outputId": "9fab3cab-5acc-494c-ea86-a8cba449f3c4"
   },
   "outputs": [
    {
     "data": {
      "text/plain": [
       "((779, 512, 512, 3),\n",
       " (779, 2),\n",
       " (416, 512, 512, 3),\n",
       " (416, 2),\n",
       " (104, 512, 512, 3),\n",
       " (104, 2))"
      ]
     },
     "execution_count": 67,
     "metadata": {},
     "output_type": "execute_result"
    }
   ],
   "source": [
    "X_train.shape, np.array(y_train).shape, X_val.shape, np.array(y_val).shape, X_test.shape, np.array(y_test).shape"
   ]
  },
  {
   "cell_type": "code",
   "execution_count": 71,
   "metadata": {},
   "outputs": [
    {
     "data": {
      "text/plain": [
       "array([0., 1.], dtype=float32)"
      ]
     },
     "execution_count": 71,
     "metadata": {},
     "output_type": "execute_result"
    }
   ],
   "source": [
    "np.unique(y_train)"
   ]
  },
  {
   "cell_type": "code",
   "execution_count": 21,
   "metadata": {
    "executionInfo": {
     "elapsed": 397,
     "status": "ok",
     "timestamp": 1678441163240,
     "user": {
      "displayName": "Karim Elbana",
      "userId": "03461589175412467069"
     },
     "user_tz": -60
    },
    "id": "rf4lrHnbXAyx"
   },
   "outputs": [],
   "source": [
    "#plt.imshow(X_train[0])"
   ]
  },
  {
   "cell_type": "code",
   "execution_count": 22,
   "metadata": {
    "executionInfo": {
     "elapsed": 5,
     "status": "ok",
     "timestamp": 1678441171756,
     "user": {
      "displayName": "Karim Elbana",
      "userId": "03461589175412467069"
     },
     "user_tz": -60
    },
    "id": "9jGmUJh7WAzw"
   },
   "outputs": [],
   "source": [
    "# #plot images\n",
    "# plt.figure(figsize=(20,15))\n",
    "# for i in range(9):\n",
    "#   #for j in range(3):\n",
    "#     #plt.subplot(9,3, j+1 + 3*i)\n",
    "#     #plt.imshow(X_train[i])\n",
    "#     plt.subplot(9,1, i+1)\n",
    "#     plt.imshow(X_train[i])"
   ]
  },
  {
   "cell_type": "code",
   "execution_count": 23,
   "metadata": {
    "id": "10Cbl-uDb__H"
   },
   "outputs": [],
   "source": [
    "# #plot images\n",
    "# plt.figure(figsize=(20,15))\n",
    "# for i in range(2):\n",
    "#   for j in range(2):\n",
    "#     plt.subplot(8,2,j+2*i+1)\n",
    "#     plt.imshow(X_train[i][:,:,j], cmap='gray')"
   ]
  },
  {
   "cell_type": "code",
   "execution_count": 24,
   "metadata": {
    "executionInfo": {
     "elapsed": 410,
     "status": "ok",
     "timestamp": 1678441244401,
     "user": {
      "displayName": "Karim Elbana",
      "userId": "03461589175412467069"
     },
     "user_tz": -60
    },
    "id": "RUPF4KPGKL3p"
   },
   "outputs": [],
   "source": [
    "#X_train[0].shape"
   ]
  },
  {
   "cell_type": "code",
   "execution_count": 25,
   "metadata": {
    "executionInfo": {
     "elapsed": 4,
     "status": "ok",
     "timestamp": 1678441246193,
     "user": {
      "displayName": "Karim Elbana",
      "userId": "03461589175412467069"
     },
     "user_tz": -60
    },
    "id": "jjnqexGd047d"
   },
   "outputs": [],
   "source": [
    "#np.unique(y)"
   ]
  },
  {
   "cell_type": "code",
   "execution_count": 72,
   "metadata": {
    "executionInfo": {
     "elapsed": 1764,
     "status": "ok",
     "timestamp": 1678441256538,
     "user": {
      "displayName": "Karim Elbana",
      "userId": "03461589175412467069"
     },
     "user_tz": -60
    },
    "id": "e0mMiOareG38"
   },
   "outputs": [],
   "source": [
    "#Preprocess to match VGG16 or resnet50\n",
    "\n",
    "model_selected = 'vgg16'\n",
    "\n",
    "if model_selected == 'vgg16':\n",
    "  X_train = preprocess_input(X_train) \n",
    "  X_val = preprocess_input(X_val)\n",
    "  X_test = preprocess_input(X_test)\n",
    "\n",
    "elif model_selected == 'resnet50':\n",
    "  X_train = preproc_res(X_train) \n",
    "  X_val = preproc_res(X_val)\n",
    "  X_test = preproc_res(X_test)\n"
   ]
  },
  {
   "cell_type": "code",
   "execution_count": 76,
   "metadata": {},
   "outputs": [
    {
     "data": {
      "text/plain": [
       "array([0., 1.], dtype=float32)"
      ]
     },
     "execution_count": 76,
     "metadata": {},
     "output_type": "execute_result"
    }
   ],
   "source": [
    "np.unique(y_val)"
   ]
  },
  {
   "cell_type": "code",
   "execution_count": null,
   "metadata": {},
   "outputs": [],
   "source": []
  },
  {
   "cell_type": "code",
   "execution_count": 27,
   "metadata": {
    "executionInfo": {
     "elapsed": 314,
     "status": "ok",
     "timestamp": 1678441263310,
     "user": {
      "displayName": "Karim Elbana",
      "userId": "03461589175412467069"
     },
     "user_tz": -60
    },
    "id": "jhlvd1uecB2Q"
   },
   "outputs": [],
   "source": [
    "#load model\n",
    "def load_model(model_selected):\n",
    "\n",
    "    model = Sequential()\n",
    "\n",
    "    if model_selected == 'vgg16':\n",
    "      model = VGG16(weights=\"imagenet\", include_top=False, input_shape=X_train[0].shape)\n",
    "    elif model_selected == 'resnet50':\n",
    "      model = ResNet50(weights='imagenet', include_top = False, input_shape=X_train[0].shape)\n",
    "    \n",
    "    print(model.summary())\n",
    "\n",
    "    return model"
   ]
  },
  {
   "cell_type": "code",
   "execution_count": 28,
   "metadata": {
    "executionInfo": {
     "elapsed": 448,
     "status": "ok",
     "timestamp": 1678441265680,
     "user": {
      "displayName": "Karim Elbana",
      "userId": "03461589175412467069"
     },
     "user_tz": -60
    },
    "id": "SpSwTtMsdExi"
   },
   "outputs": [],
   "source": [
    "def set_nontrainable_layers(model):\n",
    "    \n",
    "  # Set the first layers to be untrainable\n",
    "  model.trainable = False\n",
    "        \n",
    "  return model"
   ]
  },
  {
   "cell_type": "code",
   "execution_count": 105,
   "metadata": {
    "executionInfo": {
     "elapsed": 720,
     "status": "ok",
     "timestamp": 1678441272591,
     "user": {
      "displayName": "Karim Elbana",
      "userId": "03461589175412467069"
     },
     "user_tz": -60
    },
    "id": "WcDQ38ascY85"
   },
   "outputs": [],
   "source": [
    "def add_last_layers(model):\n",
    "    '''Take a pre-trained model, set its parameters as non-trainable, and add additional trainable layers on top'''\n",
    "    base_model = set_nontrainable_layers(model)    \n",
    "    flatten_layer = layers.Flatten()\n",
    "    dense_layer = layers.Dense(30, activation='relu')\n",
    "    prediction_layer = layers.Dense(2, activation='softmax')\n",
    "    \n",
    "    model_w_layers = models.Sequential([\n",
    "        model,\n",
    "        flatten_layer,\n",
    "        dense_layer,\n",
    "        prediction_layer\n",
    "    ])\n",
    "  \n",
    "    return model_w_layers"
   ]
  },
  {
   "cell_type": "code",
   "execution_count": 106,
   "metadata": {
    "executionInfo": {
     "elapsed": 1,
     "status": "ok",
     "timestamp": 1678441274489,
     "user": {
      "displayName": "Karim Elbana",
      "userId": "03461589175412467069"
     },
     "user_tz": -60
    },
    "id": "p6ALPhfVFtgd"
   },
   "outputs": [],
   "source": [
    "from sklearn.metrics import f1_score\n",
    "\n",
    "def my_metric_fn(y_true, y_pred):\n",
    "    f1 = f1_score(y_true, y_pred)\n",
    "    return f1"
   ]
  },
  {
   "cell_type": "code",
   "execution_count": 107,
   "metadata": {
    "executionInfo": {
     "elapsed": 2,
     "status": "ok",
     "timestamp": 1678441276063,
     "user": {
      "displayName": "Karim Elbana",
      "userId": "03461589175412467069"
     },
     "user_tz": -60
    },
    "id": "u5u_anlecZep"
   },
   "outputs": [],
   "source": [
    "def build_model(model_selected):\n",
    "  \n",
    "  model = load_model(model_selected)\n",
    "  model_full = add_last_layers(model)\n",
    "    \n",
    "  #opt = optimizers.Adam(learning_rate=1e-4)\n",
    "\n",
    "  model_full.compile(loss=\"binary_crossentropy\", optimizer='adam', metrics=['accuracy'])\n",
    "    \n",
    "  return model_full"
   ]
  },
  {
   "cell_type": "code",
   "execution_count": 108,
   "metadata": {
    "executionInfo": {
     "elapsed": 370,
     "status": "ok",
     "timestamp": 1678441280417,
     "user": {
      "displayName": "Karim Elbana",
      "userId": "03461589175412467069"
     },
     "user_tz": -60
    },
    "id": "bh3nAKTZeJ35"
   },
   "outputs": [],
   "source": [
    "#base_model = load_model(model_selected)"
   ]
  },
  {
   "cell_type": "code",
   "execution_count": 109,
   "metadata": {
    "executionInfo": {
     "elapsed": 2,
     "status": "ok",
     "timestamp": 1678441282027,
     "user": {
      "displayName": "Karim Elbana",
      "userId": "03461589175412467069"
     },
     "user_tz": -60
    },
    "id": "GI7j8dYhnZxP"
   },
   "outputs": [],
   "source": [
    "datagen = ImageDataGenerator(\n",
    "    featurewise_center=False,\n",
    "    featurewise_std_normalization=False,\n",
    "    rotation_range=20,\n",
    "    width_shift_range=0,\n",
    "    height_shift_range=0,\n",
    "    horizontal_flip=True,\n",
    "    validation_split=0.2)"
   ]
  },
  {
   "cell_type": "code",
   "execution_count": 110,
   "metadata": {
    "executionInfo": {
     "elapsed": 2099,
     "status": "ok",
     "timestamp": 1678441288210,
     "user": {
      "displayName": "Karim Elbana",
      "userId": "03461589175412467069"
     },
     "user_tz": -60
    },
    "id": "MxvFoPMfnboG"
   },
   "outputs": [],
   "source": [
    "# compute quantities required for featurewise normalization\n",
    "# (std, mean, and principal components if ZCA whitening is applied)\n",
    "#datagen.fit(X_train)"
   ]
  },
  {
   "cell_type": "code",
   "execution_count": 111,
   "metadata": {
    "colab": {
     "base_uri": "https://localhost:8080/"
    },
    "executionInfo": {
     "elapsed": 4015,
     "status": "ok",
     "timestamp": 1678441296043,
     "user": {
      "displayName": "Karim Elbana",
      "userId": "03461589175412467069"
     },
     "user_tz": -60
    },
    "id": "6CDY8uzsAM5v",
    "outputId": "53c11dd6-75eb-45ce-9fba-9be74feff74a"
   },
   "outputs": [
    {
     "name": "stdout",
     "output_type": "stream",
     "text": [
      "Model: \"vgg16\"\n",
      "_________________________________________________________________\n",
      " Layer (type)                Output Shape              Param #   \n",
      "=================================================================\n",
      " input_3 (InputLayer)        [(None, 512, 512, 3)]     0         \n",
      "                                                                 \n",
      " block1_conv1 (Conv2D)       (None, 512, 512, 64)      1792      \n",
      "                                                                 \n",
      " block1_conv2 (Conv2D)       (None, 512, 512, 64)      36928     \n",
      "                                                                 \n",
      " block1_pool (MaxPooling2D)  (None, 256, 256, 64)      0         \n",
      "                                                                 \n",
      " block2_conv1 (Conv2D)       (None, 256, 256, 128)     73856     \n",
      "                                                                 \n",
      " block2_conv2 (Conv2D)       (None, 256, 256, 128)     147584    \n",
      "                                                                 \n",
      " block2_pool (MaxPooling2D)  (None, 128, 128, 128)     0         \n",
      "                                                                 \n",
      " block3_conv1 (Conv2D)       (None, 128, 128, 256)     295168    \n",
      "                                                                 \n",
      " block3_conv2 (Conv2D)       (None, 128, 128, 256)     590080    \n",
      "                                                                 \n",
      " block3_conv3 (Conv2D)       (None, 128, 128, 256)     590080    \n",
      "                                                                 \n",
      " block3_pool (MaxPooling2D)  (None, 64, 64, 256)       0         \n",
      "                                                                 \n",
      " block4_conv1 (Conv2D)       (None, 64, 64, 512)       1180160   \n",
      "                                                                 \n",
      " block4_conv2 (Conv2D)       (None, 64, 64, 512)       2359808   \n",
      "                                                                 \n",
      " block4_conv3 (Conv2D)       (None, 64, 64, 512)       2359808   \n",
      "                                                                 \n",
      " block4_pool (MaxPooling2D)  (None, 32, 32, 512)       0         \n",
      "                                                                 \n",
      " block5_conv1 (Conv2D)       (None, 32, 32, 512)       2359808   \n",
      "                                                                 \n",
      " block5_conv2 (Conv2D)       (None, 32, 32, 512)       2359808   \n",
      "                                                                 \n",
      " block5_conv3 (Conv2D)       (None, 32, 32, 512)       2359808   \n",
      "                                                                 \n",
      " block5_pool (MaxPooling2D)  (None, 16, 16, 512)       0         \n",
      "                                                                 \n",
      "=================================================================\n",
      "Total params: 14,714,688\n",
      "Trainable params: 14,714,688\n",
      "Non-trainable params: 0\n",
      "_________________________________________________________________\n",
      "None\n",
      "Model: \"sequential_8\"\n",
      "_________________________________________________________________\n",
      " Layer (type)                Output Shape              Param #   \n",
      "=================================================================\n",
      " vgg16 (Functional)          (None, 16, 16, 512)       14714688  \n",
      "                                                                 \n",
      " flatten_2 (Flatten)         (None, 131072)            0         \n",
      "                                                                 \n",
      " dense_4 (Dense)             (None, 30)                3932190   \n",
      "                                                                 \n",
      " dense_5 (Dense)             (None, 2)                 62        \n",
      "                                                                 \n",
      "=================================================================\n",
      "Total params: 18,646,940\n",
      "Trainable params: 3,932,252\n",
      "Non-trainable params: 14,714,688\n",
      "_________________________________________________________________\n"
     ]
    }
   ],
   "source": [
    "model = Sequential()\n",
    "\n",
    "#model = load_model(model_selected)\n",
    "#model.summary()\n",
    "\n",
    "model_built = build_model(model_selected)\n",
    "model_built.summary()\n",
    "\n",
    "es = EarlyStopping(patience = 10, \n",
    "                   verbose = 1, \n",
    "                   restore_best_weights = True)"
   ]
  },
  {
   "cell_type": "code",
   "execution_count": 112,
   "metadata": {
    "colab": {
     "base_uri": "https://localhost:8080/"
    },
    "executionInfo": {
     "elapsed": 7,
     "status": "ok",
     "timestamp": 1678441305163,
     "user": {
      "displayName": "Karim Elbana",
      "userId": "03461589175412467069"
     },
     "user_tz": -60
    },
    "id": "60TcAzwyyrz9",
    "outputId": "6751e8ae-2e7c-44a0-a33e-c7248df17aa0"
   },
   "outputs": [
    {
     "data": {
      "text/plain": [
       "array([0., 1.], dtype=float32)"
      ]
     },
     "execution_count": 112,
     "metadata": {},
     "output_type": "execute_result"
    }
   ],
   "source": [
    "np.unique(y_val)"
   ]
  },
  {
   "cell_type": "code",
   "execution_count": 113,
   "metadata": {
    "colab": {
     "base_uri": "https://localhost:8080/"
    },
    "executionInfo": {
     "elapsed": 737,
     "status": "ok",
     "timestamp": 1678441310007,
     "user": {
      "displayName": "Karim Elbana",
      "userId": "03461589175412467069"
     },
     "user_tz": -60
    },
    "id": "ZAtPrL4sHYIW",
    "outputId": "babf1416-e9cd-45a6-886d-32d878f56294"
   },
   "outputs": [
    {
     "data": {
      "text/plain": [
       "0    1091\n",
       "1     208\n",
       "dtype: int64"
      ]
     },
     "execution_count": 113,
     "metadata": {},
     "output_type": "execute_result"
    }
   ],
   "source": [
    "pd.DataFrame(y).value_counts()"
   ]
  },
  {
   "cell_type": "code",
   "execution_count": 114,
   "metadata": {
    "executionInfo": {
     "elapsed": 526,
     "status": "ok",
     "timestamp": 1678441323247,
     "user": {
      "displayName": "Karim Elbana",
      "userId": "03461589175412467069"
     },
     "user_tz": -60
    },
    "id": "SbJRyYYQGx-y"
   },
   "outputs": [],
   "source": [
    "#class_weights = {0: 0.46, 1: 0.45}"
   ]
  },
  {
   "cell_type": "code",
   "execution_count": 115,
   "metadata": {
    "executionInfo": {
     "elapsed": 4,
     "status": "ok",
     "timestamp": 1678441465845,
     "user": {
      "displayName": "Karim Elbana",
      "userId": "03461589175412467069"
     },
     "user_tz": -60
    },
    "id": "rhTiBrnSTpiX"
   },
   "outputs": [],
   "source": [
    "#history = model_built.fit(datagen.flow(X_train, y_train, batch_size=32), validation_data=(X_val, y_val), epochs=50, batch_size=16, callbacks=[es])"
   ]
  },
  {
   "cell_type": "code",
   "execution_count": 116,
   "metadata": {
    "colab": {
     "base_uri": "https://localhost:8080/"
    },
    "executionInfo": {
     "elapsed": 528,
     "status": "ok",
     "timestamp": 1678441514046,
     "user": {
      "displayName": "Karim Elbana",
      "userId": "03461589175412467069"
     },
     "user_tz": -60
    },
    "id": "G107kZaG6LEF",
    "outputId": "3e5d668c-86de-413d-95e8-531ab5b17f83"
   },
   "outputs": [
    {
     "data": {
      "text/plain": [
       "numpy.ndarray"
      ]
     },
     "execution_count": 116,
     "metadata": {},
     "output_type": "execute_result"
    }
   ],
   "source": [
    "type(y_cat)"
   ]
  },
  {
   "cell_type": "code",
   "execution_count": 117,
   "metadata": {},
   "outputs": [
    {
     "data": {
      "text/plain": [
       "<keras.callbacks.EarlyStopping at 0x2cfd47310>"
      ]
     },
     "execution_count": 117,
     "metadata": {},
     "output_type": "execute_result"
    }
   ],
   "source": [
    "es"
   ]
  },
  {
   "cell_type": "code",
   "execution_count": 118,
   "metadata": {},
   "outputs": [
    {
     "data": {
      "text/plain": [
       "(779, 2)"
      ]
     },
     "execution_count": 118,
     "metadata": {},
     "output_type": "execute_result"
    }
   ],
   "source": [
    "y_train.shape"
   ]
  },
  {
   "cell_type": "code",
   "execution_count": 119,
   "metadata": {},
   "outputs": [
    {
     "data": {
      "text/plain": [
       "(416, 2)"
      ]
     },
     "execution_count": 119,
     "metadata": {},
     "output_type": "execute_result"
    }
   ],
   "source": [
    "y_val.shape"
   ]
  },
  {
   "cell_type": "code",
   "execution_count": 120,
   "metadata": {},
   "outputs": [
    {
     "data": {
      "text/plain": [
       "(779, 512, 512, 3)"
      ]
     },
     "execution_count": 120,
     "metadata": {},
     "output_type": "execute_result"
    }
   ],
   "source": [
    "X_train.shape"
   ]
  },
  {
   "cell_type": "code",
   "execution_count": 121,
   "metadata": {},
   "outputs": [
    {
     "data": {
      "text/plain": [
       "(416, 512, 512, 3)"
      ]
     },
     "execution_count": 121,
     "metadata": {},
     "output_type": "execute_result"
    }
   ],
   "source": [
    "X_val.shape"
   ]
  },
  {
   "cell_type": "code",
   "execution_count": 122,
   "metadata": {
    "id": "LULN9s_c6Cp4"
   },
   "outputs": [
    {
     "name": "stdout",
     "output_type": "stream",
     "text": [
      "Epoch 1/50\n",
      "49/49 [==============================] - 753s 15s/step - loss: 2.3996 - accuracy: 0.7651 - val_loss: 1.8297 - val_accuracy: 0.8534\n",
      "Epoch 2/50\n",
      "49/49 [==============================] - 812s 17s/step - loss: 0.5333 - accuracy: 0.9217 - val_loss: 1.4184 - val_accuracy: 0.8534\n",
      "Epoch 3/50\n",
      "49/49 [==============================] - 782s 16s/step - loss: 0.1555 - accuracy: 0.9589 - val_loss: 1.4763 - val_accuracy: 0.8486\n",
      "Epoch 4/50\n",
      "49/49 [==============================] - 811s 17s/step - loss: 0.0929 - accuracy: 0.9705 - val_loss: 1.4396 - val_accuracy: 0.8389\n",
      "Epoch 5/50\n",
      "49/49 [==============================] - 793s 16s/step - loss: 0.0571 - accuracy: 0.9936 - val_loss: 1.5340 - val_accuracy: 0.8510\n",
      "Epoch 6/50\n",
      "49/49 [==============================] - 823s 17s/step - loss: 0.0313 - accuracy: 0.9949 - val_loss: 1.5926 - val_accuracy: 0.8221\n",
      "Epoch 7/50\n",
      "49/49 [==============================] - 822s 17s/step - loss: 0.0221 - accuracy: 0.9961 - val_loss: 1.6822 - val_accuracy: 0.8438\n",
      "Epoch 8/50\n",
      "49/49 [==============================] - 799s 16s/step - loss: 0.0162 - accuracy: 0.9974 - val_loss: 1.7421 - val_accuracy: 0.8413\n",
      "Epoch 9/50\n",
      "49/49 [==============================] - 809s 17s/step - loss: 0.0054 - accuracy: 1.0000 - val_loss: 1.6859 - val_accuracy: 0.8438\n",
      "Epoch 10/50\n",
      "15/49 [========>.....................] - ETA: 6:48 - loss: 0.0020 - accuracy: 1.0000"
     ]
    },
    {
     "ename": "KeyboardInterrupt",
     "evalue": "",
     "output_type": "error",
     "traceback": [
      "\u001b[0;31m---------------------------------------------------------------------------\u001b[0m",
      "\u001b[0;31mKeyboardInterrupt\u001b[0m                         Traceback (most recent call last)",
      "Cell \u001b[0;32mIn [122], line 1\u001b[0m\n\u001b[0;32m----> 1\u001b[0m history \u001b[38;5;241m=\u001b[39m \u001b[43mmodel_built\u001b[49m\u001b[38;5;241;43m.\u001b[39;49m\u001b[43mfit\u001b[49m\u001b[43m(\u001b[49m\u001b[43mX_train\u001b[49m\u001b[43m,\u001b[49m\u001b[43m \u001b[49m\u001b[43my_train\u001b[49m\u001b[43m,\u001b[49m\u001b[43m \u001b[49m\u001b[43mvalidation_data\u001b[49m\u001b[38;5;241;43m=\u001b[39;49m\u001b[43m(\u001b[49m\u001b[43mX_val\u001b[49m\u001b[43m,\u001b[49m\u001b[43m \u001b[49m\u001b[43my_val\u001b[49m\u001b[43m)\u001b[49m\u001b[43m,\u001b[49m\u001b[43m \u001b[49m\u001b[43mepochs\u001b[49m\u001b[38;5;241;43m=\u001b[39;49m\u001b[38;5;241;43m50\u001b[39;49m\u001b[43m,\u001b[49m\u001b[43m \u001b[49m\u001b[43mbatch_size\u001b[49m\u001b[38;5;241;43m=\u001b[39;49m\u001b[38;5;241;43m16\u001b[39;49m\u001b[43m,\u001b[49m\u001b[43m \u001b[49m\u001b[43mcallbacks\u001b[49m\u001b[38;5;241;43m=\u001b[39;49m\u001b[43m[\u001b[49m\u001b[43mes\u001b[49m\u001b[43m]\u001b[49m\u001b[43m)\u001b[49m\n",
      "File \u001b[0;32m~/.pyenv/versions/3.10.6/envs/lewagon/lib/python3.10/site-packages/keras/utils/traceback_utils.py:65\u001b[0m, in \u001b[0;36mfilter_traceback.<locals>.error_handler\u001b[0;34m(*args, **kwargs)\u001b[0m\n\u001b[1;32m     63\u001b[0m filtered_tb \u001b[38;5;241m=\u001b[39m \u001b[38;5;28;01mNone\u001b[39;00m\n\u001b[1;32m     64\u001b[0m \u001b[38;5;28;01mtry\u001b[39;00m:\n\u001b[0;32m---> 65\u001b[0m     \u001b[38;5;28;01mreturn\u001b[39;00m \u001b[43mfn\u001b[49m\u001b[43m(\u001b[49m\u001b[38;5;241;43m*\u001b[39;49m\u001b[43margs\u001b[49m\u001b[43m,\u001b[49m\u001b[43m \u001b[49m\u001b[38;5;241;43m*\u001b[39;49m\u001b[38;5;241;43m*\u001b[39;49m\u001b[43mkwargs\u001b[49m\u001b[43m)\u001b[49m\n\u001b[1;32m     66\u001b[0m \u001b[38;5;28;01mexcept\u001b[39;00m \u001b[38;5;167;01mException\u001b[39;00m \u001b[38;5;28;01mas\u001b[39;00m e:\n\u001b[1;32m     67\u001b[0m     filtered_tb \u001b[38;5;241m=\u001b[39m _process_traceback_frames(e\u001b[38;5;241m.\u001b[39m__traceback__)\n",
      "File \u001b[0;32m~/.pyenv/versions/3.10.6/envs/lewagon/lib/python3.10/site-packages/keras/engine/training.py:1564\u001b[0m, in \u001b[0;36mModel.fit\u001b[0;34m(self, x, y, batch_size, epochs, verbose, callbacks, validation_split, validation_data, shuffle, class_weight, sample_weight, initial_epoch, steps_per_epoch, validation_steps, validation_batch_size, validation_freq, max_queue_size, workers, use_multiprocessing)\u001b[0m\n\u001b[1;32m   1556\u001b[0m \u001b[38;5;28;01mwith\u001b[39;00m tf\u001b[38;5;241m.\u001b[39mprofiler\u001b[38;5;241m.\u001b[39mexperimental\u001b[38;5;241m.\u001b[39mTrace(\n\u001b[1;32m   1557\u001b[0m     \u001b[38;5;124m\"\u001b[39m\u001b[38;5;124mtrain\u001b[39m\u001b[38;5;124m\"\u001b[39m,\n\u001b[1;32m   1558\u001b[0m     epoch_num\u001b[38;5;241m=\u001b[39mepoch,\n\u001b[0;32m   (...)\u001b[0m\n\u001b[1;32m   1561\u001b[0m     _r\u001b[38;5;241m=\u001b[39m\u001b[38;5;241m1\u001b[39m,\n\u001b[1;32m   1562\u001b[0m ):\n\u001b[1;32m   1563\u001b[0m     callbacks\u001b[38;5;241m.\u001b[39mon_train_batch_begin(step)\n\u001b[0;32m-> 1564\u001b[0m     tmp_logs \u001b[38;5;241m=\u001b[39m \u001b[38;5;28;43mself\u001b[39;49m\u001b[38;5;241;43m.\u001b[39;49m\u001b[43mtrain_function\u001b[49m\u001b[43m(\u001b[49m\u001b[43miterator\u001b[49m\u001b[43m)\u001b[49m\n\u001b[1;32m   1565\u001b[0m     \u001b[38;5;28;01mif\u001b[39;00m data_handler\u001b[38;5;241m.\u001b[39mshould_sync:\n\u001b[1;32m   1566\u001b[0m         context\u001b[38;5;241m.\u001b[39masync_wait()\n",
      "File \u001b[0;32m~/.pyenv/versions/3.10.6/envs/lewagon/lib/python3.10/site-packages/tensorflow/python/util/traceback_utils.py:150\u001b[0m, in \u001b[0;36mfilter_traceback.<locals>.error_handler\u001b[0;34m(*args, **kwargs)\u001b[0m\n\u001b[1;32m    148\u001b[0m filtered_tb \u001b[38;5;241m=\u001b[39m \u001b[38;5;28;01mNone\u001b[39;00m\n\u001b[1;32m    149\u001b[0m \u001b[38;5;28;01mtry\u001b[39;00m:\n\u001b[0;32m--> 150\u001b[0m   \u001b[38;5;28;01mreturn\u001b[39;00m \u001b[43mfn\u001b[49m\u001b[43m(\u001b[49m\u001b[38;5;241;43m*\u001b[39;49m\u001b[43margs\u001b[49m\u001b[43m,\u001b[49m\u001b[43m \u001b[49m\u001b[38;5;241;43m*\u001b[39;49m\u001b[38;5;241;43m*\u001b[39;49m\u001b[43mkwargs\u001b[49m\u001b[43m)\u001b[49m\n\u001b[1;32m    151\u001b[0m \u001b[38;5;28;01mexcept\u001b[39;00m \u001b[38;5;167;01mException\u001b[39;00m \u001b[38;5;28;01mas\u001b[39;00m e:\n\u001b[1;32m    152\u001b[0m   filtered_tb \u001b[38;5;241m=\u001b[39m _process_traceback_frames(e\u001b[38;5;241m.\u001b[39m__traceback__)\n",
      "File \u001b[0;32m~/.pyenv/versions/3.10.6/envs/lewagon/lib/python3.10/site-packages/tensorflow/python/eager/def_function.py:915\u001b[0m, in \u001b[0;36mFunction.__call__\u001b[0;34m(self, *args, **kwds)\u001b[0m\n\u001b[1;32m    912\u001b[0m compiler \u001b[38;5;241m=\u001b[39m \u001b[38;5;124m\"\u001b[39m\u001b[38;5;124mxla\u001b[39m\u001b[38;5;124m\"\u001b[39m \u001b[38;5;28;01mif\u001b[39;00m \u001b[38;5;28mself\u001b[39m\u001b[38;5;241m.\u001b[39m_jit_compile \u001b[38;5;28;01melse\u001b[39;00m \u001b[38;5;124m\"\u001b[39m\u001b[38;5;124mnonXla\u001b[39m\u001b[38;5;124m\"\u001b[39m\n\u001b[1;32m    914\u001b[0m \u001b[38;5;28;01mwith\u001b[39;00m OptionalXlaContext(\u001b[38;5;28mself\u001b[39m\u001b[38;5;241m.\u001b[39m_jit_compile):\n\u001b[0;32m--> 915\u001b[0m   result \u001b[38;5;241m=\u001b[39m \u001b[38;5;28;43mself\u001b[39;49m\u001b[38;5;241;43m.\u001b[39;49m\u001b[43m_call\u001b[49m\u001b[43m(\u001b[49m\u001b[38;5;241;43m*\u001b[39;49m\u001b[43margs\u001b[49m\u001b[43m,\u001b[49m\u001b[43m \u001b[49m\u001b[38;5;241;43m*\u001b[39;49m\u001b[38;5;241;43m*\u001b[39;49m\u001b[43mkwds\u001b[49m\u001b[43m)\u001b[49m\n\u001b[1;32m    917\u001b[0m new_tracing_count \u001b[38;5;241m=\u001b[39m \u001b[38;5;28mself\u001b[39m\u001b[38;5;241m.\u001b[39mexperimental_get_tracing_count()\n\u001b[1;32m    918\u001b[0m without_tracing \u001b[38;5;241m=\u001b[39m (tracing_count \u001b[38;5;241m==\u001b[39m new_tracing_count)\n",
      "File \u001b[0;32m~/.pyenv/versions/3.10.6/envs/lewagon/lib/python3.10/site-packages/tensorflow/python/eager/def_function.py:947\u001b[0m, in \u001b[0;36mFunction._call\u001b[0;34m(self, *args, **kwds)\u001b[0m\n\u001b[1;32m    944\u001b[0m   \u001b[38;5;28mself\u001b[39m\u001b[38;5;241m.\u001b[39m_lock\u001b[38;5;241m.\u001b[39mrelease()\n\u001b[1;32m    945\u001b[0m   \u001b[38;5;66;03m# In this case we have created variables on the first call, so we run the\u001b[39;00m\n\u001b[1;32m    946\u001b[0m   \u001b[38;5;66;03m# defunned version which is guaranteed to never create variables.\u001b[39;00m\n\u001b[0;32m--> 947\u001b[0m   \u001b[38;5;28;01mreturn\u001b[39;00m \u001b[38;5;28;43mself\u001b[39;49m\u001b[38;5;241;43m.\u001b[39;49m\u001b[43m_stateless_fn\u001b[49m\u001b[43m(\u001b[49m\u001b[38;5;241;43m*\u001b[39;49m\u001b[43margs\u001b[49m\u001b[43m,\u001b[49m\u001b[43m \u001b[49m\u001b[38;5;241;43m*\u001b[39;49m\u001b[38;5;241;43m*\u001b[39;49m\u001b[43mkwds\u001b[49m\u001b[43m)\u001b[49m  \u001b[38;5;66;03m# pylint: disable=not-callable\u001b[39;00m\n\u001b[1;32m    948\u001b[0m \u001b[38;5;28;01melif\u001b[39;00m \u001b[38;5;28mself\u001b[39m\u001b[38;5;241m.\u001b[39m_stateful_fn \u001b[38;5;129;01mis\u001b[39;00m \u001b[38;5;129;01mnot\u001b[39;00m \u001b[38;5;28;01mNone\u001b[39;00m:\n\u001b[1;32m    949\u001b[0m   \u001b[38;5;66;03m# Release the lock early so that multiple threads can perform the call\u001b[39;00m\n\u001b[1;32m    950\u001b[0m   \u001b[38;5;66;03m# in parallel.\u001b[39;00m\n\u001b[1;32m    951\u001b[0m   \u001b[38;5;28mself\u001b[39m\u001b[38;5;241m.\u001b[39m_lock\u001b[38;5;241m.\u001b[39mrelease()\n",
      "File \u001b[0;32m~/.pyenv/versions/3.10.6/envs/lewagon/lib/python3.10/site-packages/tensorflow/python/eager/function.py:2496\u001b[0m, in \u001b[0;36mFunction.__call__\u001b[0;34m(self, *args, **kwargs)\u001b[0m\n\u001b[1;32m   2493\u001b[0m \u001b[38;5;28;01mwith\u001b[39;00m \u001b[38;5;28mself\u001b[39m\u001b[38;5;241m.\u001b[39m_lock:\n\u001b[1;32m   2494\u001b[0m   (graph_function,\n\u001b[1;32m   2495\u001b[0m    filtered_flat_args) \u001b[38;5;241m=\u001b[39m \u001b[38;5;28mself\u001b[39m\u001b[38;5;241m.\u001b[39m_maybe_define_function(args, kwargs)\n\u001b[0;32m-> 2496\u001b[0m \u001b[38;5;28;01mreturn\u001b[39;00m \u001b[43mgraph_function\u001b[49m\u001b[38;5;241;43m.\u001b[39;49m\u001b[43m_call_flat\u001b[49m\u001b[43m(\u001b[49m\n\u001b[1;32m   2497\u001b[0m \u001b[43m    \u001b[49m\u001b[43mfiltered_flat_args\u001b[49m\u001b[43m,\u001b[49m\u001b[43m \u001b[49m\u001b[43mcaptured_inputs\u001b[49m\u001b[38;5;241;43m=\u001b[39;49m\u001b[43mgraph_function\u001b[49m\u001b[38;5;241;43m.\u001b[39;49m\u001b[43mcaptured_inputs\u001b[49m\u001b[43m)\u001b[49m\n",
      "File \u001b[0;32m~/.pyenv/versions/3.10.6/envs/lewagon/lib/python3.10/site-packages/tensorflow/python/eager/function.py:1862\u001b[0m, in \u001b[0;36mConcreteFunction._call_flat\u001b[0;34m(self, args, captured_inputs, cancellation_manager)\u001b[0m\n\u001b[1;32m   1858\u001b[0m possible_gradient_type \u001b[38;5;241m=\u001b[39m gradients_util\u001b[38;5;241m.\u001b[39mPossibleTapeGradientTypes(args)\n\u001b[1;32m   1859\u001b[0m \u001b[38;5;28;01mif\u001b[39;00m (possible_gradient_type \u001b[38;5;241m==\u001b[39m gradients_util\u001b[38;5;241m.\u001b[39mPOSSIBLE_GRADIENT_TYPES_NONE\n\u001b[1;32m   1860\u001b[0m     \u001b[38;5;129;01mand\u001b[39;00m executing_eagerly):\n\u001b[1;32m   1861\u001b[0m   \u001b[38;5;66;03m# No tape is watching; skip to running the function.\u001b[39;00m\n\u001b[0;32m-> 1862\u001b[0m   \u001b[38;5;28;01mreturn\u001b[39;00m \u001b[38;5;28mself\u001b[39m\u001b[38;5;241m.\u001b[39m_build_call_outputs(\u001b[38;5;28;43mself\u001b[39;49m\u001b[38;5;241;43m.\u001b[39;49m\u001b[43m_inference_function\u001b[49m\u001b[38;5;241;43m.\u001b[39;49m\u001b[43mcall\u001b[49m\u001b[43m(\u001b[49m\n\u001b[1;32m   1863\u001b[0m \u001b[43m      \u001b[49m\u001b[43mctx\u001b[49m\u001b[43m,\u001b[49m\u001b[43m \u001b[49m\u001b[43margs\u001b[49m\u001b[43m,\u001b[49m\u001b[43m \u001b[49m\u001b[43mcancellation_manager\u001b[49m\u001b[38;5;241;43m=\u001b[39;49m\u001b[43mcancellation_manager\u001b[49m\u001b[43m)\u001b[49m)\n\u001b[1;32m   1864\u001b[0m forward_backward \u001b[38;5;241m=\u001b[39m \u001b[38;5;28mself\u001b[39m\u001b[38;5;241m.\u001b[39m_select_forward_and_backward_functions(\n\u001b[1;32m   1865\u001b[0m     args,\n\u001b[1;32m   1866\u001b[0m     possible_gradient_type,\n\u001b[1;32m   1867\u001b[0m     executing_eagerly)\n\u001b[1;32m   1868\u001b[0m forward_function, args_with_tangents \u001b[38;5;241m=\u001b[39m forward_backward\u001b[38;5;241m.\u001b[39mforward()\n",
      "File \u001b[0;32m~/.pyenv/versions/3.10.6/envs/lewagon/lib/python3.10/site-packages/tensorflow/python/eager/function.py:499\u001b[0m, in \u001b[0;36m_EagerDefinedFunction.call\u001b[0;34m(self, ctx, args, cancellation_manager)\u001b[0m\n\u001b[1;32m    497\u001b[0m \u001b[38;5;28;01mwith\u001b[39;00m _InterpolateFunctionError(\u001b[38;5;28mself\u001b[39m):\n\u001b[1;32m    498\u001b[0m   \u001b[38;5;28;01mif\u001b[39;00m cancellation_manager \u001b[38;5;129;01mis\u001b[39;00m \u001b[38;5;28;01mNone\u001b[39;00m:\n\u001b[0;32m--> 499\u001b[0m     outputs \u001b[38;5;241m=\u001b[39m \u001b[43mexecute\u001b[49m\u001b[38;5;241;43m.\u001b[39;49m\u001b[43mexecute\u001b[49m\u001b[43m(\u001b[49m\n\u001b[1;32m    500\u001b[0m \u001b[43m        \u001b[49m\u001b[38;5;28;43mstr\u001b[39;49m\u001b[43m(\u001b[49m\u001b[38;5;28;43mself\u001b[39;49m\u001b[38;5;241;43m.\u001b[39;49m\u001b[43msignature\u001b[49m\u001b[38;5;241;43m.\u001b[39;49m\u001b[43mname\u001b[49m\u001b[43m)\u001b[49m\u001b[43m,\u001b[49m\n\u001b[1;32m    501\u001b[0m \u001b[43m        \u001b[49m\u001b[43mnum_outputs\u001b[49m\u001b[38;5;241;43m=\u001b[39;49m\u001b[38;5;28;43mself\u001b[39;49m\u001b[38;5;241;43m.\u001b[39;49m\u001b[43m_num_outputs\u001b[49m\u001b[43m,\u001b[49m\n\u001b[1;32m    502\u001b[0m \u001b[43m        \u001b[49m\u001b[43minputs\u001b[49m\u001b[38;5;241;43m=\u001b[39;49m\u001b[43margs\u001b[49m\u001b[43m,\u001b[49m\n\u001b[1;32m    503\u001b[0m \u001b[43m        \u001b[49m\u001b[43mattrs\u001b[49m\u001b[38;5;241;43m=\u001b[39;49m\u001b[43mattrs\u001b[49m\u001b[43m,\u001b[49m\n\u001b[1;32m    504\u001b[0m \u001b[43m        \u001b[49m\u001b[43mctx\u001b[49m\u001b[38;5;241;43m=\u001b[39;49m\u001b[43mctx\u001b[49m\u001b[43m)\u001b[49m\n\u001b[1;32m    505\u001b[0m   \u001b[38;5;28;01melse\u001b[39;00m:\n\u001b[1;32m    506\u001b[0m     outputs \u001b[38;5;241m=\u001b[39m execute\u001b[38;5;241m.\u001b[39mexecute_with_cancellation(\n\u001b[1;32m    507\u001b[0m         \u001b[38;5;28mstr\u001b[39m(\u001b[38;5;28mself\u001b[39m\u001b[38;5;241m.\u001b[39msignature\u001b[38;5;241m.\u001b[39mname),\n\u001b[1;32m    508\u001b[0m         num_outputs\u001b[38;5;241m=\u001b[39m\u001b[38;5;28mself\u001b[39m\u001b[38;5;241m.\u001b[39m_num_outputs,\n\u001b[0;32m   (...)\u001b[0m\n\u001b[1;32m    511\u001b[0m         ctx\u001b[38;5;241m=\u001b[39mctx,\n\u001b[1;32m    512\u001b[0m         cancellation_manager\u001b[38;5;241m=\u001b[39mcancellation_manager)\n",
      "File \u001b[0;32m~/.pyenv/versions/3.10.6/envs/lewagon/lib/python3.10/site-packages/tensorflow/python/eager/execute.py:54\u001b[0m, in \u001b[0;36mquick_execute\u001b[0;34m(op_name, num_outputs, inputs, attrs, ctx, name)\u001b[0m\n\u001b[1;32m     52\u001b[0m \u001b[38;5;28;01mtry\u001b[39;00m:\n\u001b[1;32m     53\u001b[0m   ctx\u001b[38;5;241m.\u001b[39mensure_initialized()\n\u001b[0;32m---> 54\u001b[0m   tensors \u001b[38;5;241m=\u001b[39m \u001b[43mpywrap_tfe\u001b[49m\u001b[38;5;241;43m.\u001b[39;49m\u001b[43mTFE_Py_Execute\u001b[49m\u001b[43m(\u001b[49m\u001b[43mctx\u001b[49m\u001b[38;5;241;43m.\u001b[39;49m\u001b[43m_handle\u001b[49m\u001b[43m,\u001b[49m\u001b[43m \u001b[49m\u001b[43mdevice_name\u001b[49m\u001b[43m,\u001b[49m\u001b[43m \u001b[49m\u001b[43mop_name\u001b[49m\u001b[43m,\u001b[49m\n\u001b[1;32m     55\u001b[0m \u001b[43m                                      \u001b[49m\u001b[43minputs\u001b[49m\u001b[43m,\u001b[49m\u001b[43m \u001b[49m\u001b[43mattrs\u001b[49m\u001b[43m,\u001b[49m\u001b[43m \u001b[49m\u001b[43mnum_outputs\u001b[49m\u001b[43m)\u001b[49m\n\u001b[1;32m     56\u001b[0m \u001b[38;5;28;01mexcept\u001b[39;00m core\u001b[38;5;241m.\u001b[39m_NotOkStatusException \u001b[38;5;28;01mas\u001b[39;00m e:\n\u001b[1;32m     57\u001b[0m   \u001b[38;5;28;01mif\u001b[39;00m name \u001b[38;5;129;01mis\u001b[39;00m \u001b[38;5;129;01mnot\u001b[39;00m \u001b[38;5;28;01mNone\u001b[39;00m:\n",
      "\u001b[0;31mKeyboardInterrupt\u001b[0m: "
     ]
    }
   ],
   "source": [
    "history = model_built.fit(X_train, y_train, validation_data=(X_val, y_val), epochs=50, batch_size=16, callbacks=[es])"
   ]
  },
  {
   "cell_type": "code",
   "execution_count": null,
   "metadata": {
    "id": "sJJs41QFAj4S"
   },
   "outputs": [],
   "source": [
    "'=IF(S2<60, 0, IF(ISBETWEEN(S2, 60,120), 1, IF(ISBETWEEN(S2, 120,200), 2, 3)))'"
   ]
  },
  {
   "cell_type": "code",
   "execution_count": null,
   "metadata": {
    "id": "QcFWIcKrAjxt"
   },
   "outputs": [],
   "source": []
  },
  {
   "cell_type": "code",
   "execution_count": null,
   "metadata": {
    "id": "cdKoIgY_AjrK"
   },
   "outputs": [],
   "source": []
  },
  {
   "cell_type": "code",
   "execution_count": null,
   "metadata": {
    "id": "folvqbU3AjkK"
   },
   "outputs": [],
   "source": []
  },
  {
   "cell_type": "code",
   "execution_count": null,
   "metadata": {
    "id": "z6vsztTOAjLs"
   },
   "outputs": [],
   "source": []
  },
  {
   "cell_type": "code",
   "execution_count": null,
   "metadata": {
    "colab": {
     "base_uri": "https://localhost:8080/"
    },
    "executionInfo": {
     "elapsed": 193,
     "status": "ok",
     "timestamp": 1678293132613,
     "user": {
      "displayName": "Karim Elbana",
      "userId": "03461589175412467069"
     },
     "user_tz": -60
    },
    "id": "lMBK4-yF3prH",
    "outputId": "d6d4ea43-64a2-40a7-ce06-2d1bf41518d4"
   },
   "outputs": [
    {
     "data": {
      "text/plain": [
       "{'loss': [36719.55078125,\n",
       "  8337.2978515625,\n",
       "  8522.955078125,\n",
       "  1403.4173583984375,\n",
       "  1994.6375732421875,\n",
       "  2051.4140625,\n",
       "  330.2071838378906,\n",
       "  135.98281860351562,\n",
       "  129.2735137939453,\n",
       "  160.33724975585938,\n",
       "  77.3999252319336,\n",
       "  51.192840576171875,\n",
       "  78.76077270507812,\n",
       "  133.07174682617188,\n",
       "  11.509093284606934,\n",
       "  87.23123931884766],\n",
       " 'mse': [36719.55078125,\n",
       "  8337.2978515625,\n",
       "  8522.955078125,\n",
       "  1403.4173583984375,\n",
       "  1994.6375732421875,\n",
       "  2051.4140625,\n",
       "  330.2071838378906,\n",
       "  135.98281860351562,\n",
       "  129.2735137939453,\n",
       "  160.33724975585938,\n",
       "  77.3999252319336,\n",
       "  51.192840576171875,\n",
       "  78.76077270507812,\n",
       "  133.07174682617188,\n",
       "  11.509093284606934,\n",
       "  87.23123931884766],\n",
       " 'val_loss': [831.1284790039062,\n",
       "  7318.6240234375,\n",
       "  3390.648193359375,\n",
       "  303.648193359375,\n",
       "  1097.3468017578125,\n",
       "  647.0031127929688,\n",
       "  281.84063720703125,\n",
       "  388.497802734375,\n",
       "  342.7603454589844,\n",
       "  312.82476806640625,\n",
       "  273.7745361328125,\n",
       "  279.1624450683594,\n",
       "  327.2934265136719,\n",
       "  312.882568359375,\n",
       "  280.2222595214844,\n",
       "  301.0914306640625],\n",
       " 'val_mse': [831.1284790039062,\n",
       "  7318.6240234375,\n",
       "  3390.648193359375,\n",
       "  303.648193359375,\n",
       "  1097.3468017578125,\n",
       "  647.0031127929688,\n",
       "  281.84063720703125,\n",
       "  388.497802734375,\n",
       "  342.7603454589844,\n",
       "  312.82476806640625,\n",
       "  273.7745361328125,\n",
       "  279.1624450683594,\n",
       "  327.2934265136719,\n",
       "  312.882568359375,\n",
       "  280.2222595214844,\n",
       "  301.0914306640625]}"
      ]
     },
     "execution_count": 217,
     "metadata": {},
     "output_type": "execute_result"
    }
   ],
   "source": [
    "history.history"
   ]
  },
  {
   "cell_type": "code",
   "execution_count": null,
   "metadata": {
    "colab": {
     "base_uri": "https://localhost:8080/"
    },
    "executionInfo": {
     "elapsed": 2719,
     "status": "ok",
     "timestamp": 1678293137970,
     "user": {
      "displayName": "Karim Elbana",
      "userId": "03461589175412467069"
     },
     "user_tz": -60
    },
    "id": "VBoE3Uyz9P5r",
    "outputId": "03b82d49-e8dd-4808-c7ec-bafd7c5978d1"
   },
   "outputs": [
    {
     "name": "stdout",
     "output_type": "stream",
     "text": [
      "1/1 [==============================] - 0s 233ms/step - loss: 1999.8970 - mse: 1999.8970\n",
      "[1999.89697265625, 1999.89697265625]\n"
     ]
    }
   ],
   "source": [
    "print(model_built.evaluate(X_test, y_test, verbose=1))"
   ]
  },
  {
   "cell_type": "code",
   "execution_count": null,
   "metadata": {
    "id": "ryL7wyX-BcEo"
   },
   "outputs": [],
   "source": [
    "test = np.expand_dims(X_test[1], axis=0)"
   ]
  },
  {
   "cell_type": "code",
   "execution_count": null,
   "metadata": {
    "colab": {
     "base_uri": "https://localhost:8080/"
    },
    "executionInfo": {
     "elapsed": 3,
     "status": "ok",
     "timestamp": 1678293204002,
     "user": {
      "displayName": "Karim Elbana",
      "userId": "03461589175412467069"
     },
     "user_tz": -60
    },
    "id": "8z2yov7tBgns",
    "outputId": "95c2f43a-66d1-467f-e750-7ae904d4cdfa"
   },
   "outputs": [
    {
     "data": {
      "text/plain": [
       "(1, 256, 256, 3)"
      ]
     },
     "execution_count": 227,
     "metadata": {},
     "output_type": "execute_result"
    }
   ],
   "source": [
    "test.shape"
   ]
  },
  {
   "cell_type": "code",
   "execution_count": null,
   "metadata": {
    "colab": {
     "base_uri": "https://localhost:8080/"
    },
    "executionInfo": {
     "elapsed": 280,
     "status": "ok",
     "timestamp": 1678293204280,
     "user": {
      "displayName": "Karim Elbana",
      "userId": "03461589175412467069"
     },
     "user_tz": -60
    },
    "id": "xR4NDHpy9wRQ",
    "outputId": "25d32288-2fa4-4eaa-a41d-f58827118250"
   },
   "outputs": [
    {
     "name": "stdout",
     "output_type": "stream",
     "text": [
      "1/1 [==============================] - 0s 24ms/step\n"
     ]
    },
    {
     "data": {
      "text/plain": [
       "array([[157.56335]], dtype=float32)"
      ]
     },
     "execution_count": 228,
     "metadata": {},
     "output_type": "execute_result"
    }
   ],
   "source": [
    "model_built.predict(test)"
   ]
  },
  {
   "cell_type": "code",
   "execution_count": null,
   "metadata": {
    "colab": {
     "base_uri": "https://localhost:8080/"
    },
    "executionInfo": {
     "elapsed": 4,
     "status": "ok",
     "timestamp": 1678293204280,
     "user": {
      "displayName": "Karim Elbana",
      "userId": "03461589175412467069"
     },
     "user_tz": -60
    },
    "id": "pdb6qk8w92bF",
    "outputId": "45d64439-ebd5-4161-8fc8-dfbdb355f7f8"
   },
   "outputs": [
    {
     "data": {
      "text/plain": [
       "(6, 256, 256, 3)"
      ]
     },
     "execution_count": 229,
     "metadata": {},
     "output_type": "execute_result"
    }
   ],
   "source": [
    "X_train.shape"
   ]
  },
  {
   "cell_type": "code",
   "execution_count": null,
   "metadata": {
    "colab": {
     "base_uri": "https://localhost:8080/"
    },
    "executionInfo": {
     "elapsed": 608,
     "status": "ok",
     "timestamp": 1678293205948,
     "user": {
      "displayName": "Karim Elbana",
      "userId": "03461589175412467069"
     },
     "user_tz": -60
    },
    "id": "P4tiYCEr92xl",
    "outputId": "f819b70d-0d2b-47a9-937a-2a5cdb4712de"
   },
   "outputs": [
    {
     "data": {
      "text/plain": [
       "(2, 256, 256, 3)"
      ]
     },
     "execution_count": 230,
     "metadata": {},
     "output_type": "execute_result"
    }
   ],
   "source": [
    "X_val.shape"
   ]
  },
  {
   "cell_type": "code",
   "execution_count": null,
   "metadata": {
    "id": "_GFP6t5e920u"
   },
   "outputs": [],
   "source": [
    "# def predictImage(url, model):\n",
    "  \n",
    "#   # Takes an imafe and a model\n",
    "  \n",
    "#   img = getImage(url)\n",
    "#   img = img_to_array(img)\n",
    "#   img = img.reshape((-1, 150, 150, 3))\n",
    "#   res = model.predict(img)[0][0]\n",
    "#   if(res < 0.5):\n",
    "#     animal = \"cat\"\n",
    "#     prob = 1-res\n",
    "#   if(res >= 0.5):\n",
    "#     animal = \"dog\"\n",
    "#     prob = res\n",
    "    \n",
    "#   print(\"Animal : \", animal)\n",
    "#   print(\"probability = \",prob)"
   ]
  },
  {
   "cell_type": "code",
   "execution_count": null,
   "metadata": {
    "id": "APjJMH-p923k"
   },
   "outputs": [],
   "source": []
  },
  {
   "cell_type": "code",
   "execution_count": null,
   "metadata": {
    "id": "EVdzuDZz926e"
   },
   "outputs": [],
   "source": []
  },
  {
   "cell_type": "code",
   "execution_count": null,
   "metadata": {
    "id": "6oceBnTJ929j"
   },
   "outputs": [],
   "source": []
  },
  {
   "cell_type": "code",
   "execution_count": null,
   "metadata": {
    "id": "Kwd6H7Uh93Ar"
   },
   "outputs": [],
   "source": []
  },
  {
   "cell_type": "code",
   "execution_count": null,
   "metadata": {
    "id": "wxk4UPk_93EH"
   },
   "outputs": [],
   "source": []
  },
  {
   "cell_type": "code",
   "execution_count": null,
   "metadata": {
    "id": "EKpsTewG93HB"
   },
   "outputs": [],
   "source": []
  },
  {
   "cell_type": "code",
   "execution_count": null,
   "metadata": {
    "colab": {
     "base_uri": "https://localhost:8080/",
     "height": 283
    },
    "executionInfo": {
     "elapsed": 300,
     "status": "ok",
     "timestamp": 1678289937839,
     "user": {
      "displayName": "Karim Elbana",
      "userId": "03461589175412467069"
     },
     "user_tz": -60
    },
    "id": "_--zPDsQ3vvu",
    "outputId": "da7483c8-b6b3-47bd-f1f4-9fdf9d1d766c"
   },
   "outputs": [
    {
     "data": {
      "text/plain": [
       "[<matplotlib.lines.Line2D at 0x7f129e106f10>]"
      ]
     },
     "execution_count": 147,
     "metadata": {},
     "output_type": "execute_result"
    },
    {
     "data": {
      "image/png": "[encoded data removed]",
      "text/plain": [
       "<Figure size 432x288 with 1 Axes>"
      ]
     },
     "metadata": {},
     "output_type": "display_data"
    }
   ],
   "source": [
    "plt.plot(history.history['loss'])"
   ]
  },
  {
   "cell_type": "code",
   "execution_count": null,
   "metadata": {
    "id": "igts1-DVeNdK"
   },
   "outputs": [],
   "source": [
    "def plot_history(history, title='', axs=None, exp_name=\"\"):\n",
    "    if axs is not None:\n",
    "        ax1, ax2 = axs\n",
    "    else:\n",
    "        f, (ax1, ax2) = plt.subplots(1, 2, figsize=(12, 4))\n",
    "    \n",
    "    if len(exp_name) > 0 and exp_name[0] != '_':\n",
    "        exp_name = '_' + exp_name\n",
    "    ax1.plot(history.history['loss'], label='train' + exp_name)\n",
    "    ax1.plot(history.history['val_loss'], label='val' + exp_name)\n",
    "    #ax1.set_ylim(0., 2.2)\n",
    "    ax1.set_title('loss')\n",
    "    ax1.legend()\n",
    "\n",
    "    ax2.plot(history.history['accuracy'], label='train accuracy'  + exp_name)\n",
    "    ax2.plot(history.history['val_accuracy'], label='val accuracy'  + exp_name)\n",
    "    #ax2.set_ylim(0.25, 1.)\n",
    "    ax2.set_title('Accuracy')\n",
    "    ax2.legend()\n",
    "    return (ax1, ax2)"
   ]
  },
  {
   "cell_type": "code",
   "execution_count": null,
   "metadata": {
    "colab": {
     "base_uri": "https://localhost:8080/"
    },
    "executionInfo": {
     "elapsed": 1183,
     "status": "ok",
     "timestamp": 1678291259303,
     "user": {
      "displayName": "Karim Elbana",
      "userId": "03461589175412467069"
     },
     "user_tz": -60
    },
    "id": "nRiqv_Yk4Zbm",
    "outputId": "588131e2-f55c-4ed3-9ba8-1bdcc353f2ac"
   },
   "outputs": [
    {
     "name": "stdout",
     "output_type": "stream",
     "text": [
      "1/1 [==============================] - 1s 985ms/step - loss: 38908.8164\n",
      "38908.81640625\n"
     ]
    }
   ],
   "source": []
  },
  {
   "cell_type": "code",
   "execution_count": null,
   "metadata": {
    "colab": {
     "base_uri": "https://localhost:8080/",
     "height": 276
    },
    "executionInfo": {
     "elapsed": 478,
     "status": "error",
     "timestamp": 1678291512825,
     "user": {
      "displayName": "Karim Elbana",
      "userId": "03461589175412467069"
     },
     "user_tz": -60
    },
    "id": "4p05yGYmeRQj",
    "outputId": "d7eb11dc-9b2d-48cf-c679-570dc3b50c7f"
   },
   "outputs": [
    {
     "name": "stdout",
     "output_type": "stream",
     "text": [
      "1/1 [==============================] - 0s 80ms/step - loss: 2848.9688 - mse: 2848.9688\n",
      "test_accuracy_vgg = 284897.0 %\n"
     ]
    },
    {
     "ename": "NameError",
     "evalue": "ignored",
     "output_type": "error",
     "traceback": [
      "\u001b[0;31m---------------------------------------------------------------------------\u001b[0m",
      "\u001b[0;31mNameError\u001b[0m                                 Traceback (most recent call last)",
      "\u001b[0;32m<ipython-input-166-840d2ae9b5b0>\u001b[0m in \u001b[0;36m<module>\u001b[0;34m\u001b[0m\n\u001b[1;32m      5\u001b[0m \u001b[0mprint\u001b[0m\u001b[0;34m(\u001b[0m\u001b[0;34mf\"test_accuracy_vgg = {round(test_accuracy_vgg,2)*100} %\"\u001b[0m\u001b[0;34m)\u001b[0m\u001b[0;34m\u001b[0m\u001b[0;34m\u001b[0m\u001b[0m\n\u001b[1;32m      6\u001b[0m \u001b[0;34m\u001b[0m\u001b[0m\n\u001b[0;32m----> 7\u001b[0;31m \u001b[0mprint\u001b[0m\u001b[0;34m(\u001b[0m\u001b[0;34mf\"test_accuracy = {round(test_accurcy,2)*100} %\"\u001b[0m\u001b[0;34m)\u001b[0m\u001b[0;34m\u001b[0m\u001b[0;34m\u001b[0m\u001b[0m\n\u001b[0m\u001b[1;32m      8\u001b[0m \u001b[0;34m\u001b[0m\u001b[0m\n\u001b[1;32m      9\u001b[0m \u001b[0mprint\u001b[0m\u001b[0;34m(\u001b[0m\u001b[0;34mf'Chance level: {1./num_classes*100:.1f}%'\u001b[0m\u001b[0;34m)\u001b[0m\u001b[0;34m\u001b[0m\u001b[0;34m\u001b[0m\u001b[0m\n",
      "\u001b[0;31mNameError\u001b[0m: name 'test_accurcy' is not defined"
     ]
    }
   ],
   "source": [
    "res_vgg = model_built.evaluate(X_test, y_test)\n",
    "\n",
    "test_accuracy_vgg = res_vgg[-1]\n",
    "\n",
    "print(f\"test_accuracy_vgg = {round(test_accuracy_vgg,2)*100} %\")\n",
    "\n",
    "print(f\"test_accuracy = {round(test_accurcy,2)*100} %\")\n",
    "\n",
    "print(f'Chance level: {1./num_classes*100:.1f}%')"
   ]
  },
  {
   "cell_type": "code",
   "execution_count": null,
   "metadata": {
    "id": "4tnFGOraw_9-"
   },
   "outputs": [],
   "source": []
  },
  {
   "cell_type": "code",
   "execution_count": null,
   "metadata": {
    "id": "j_2cJKpkw_3h"
   },
   "outputs": [],
   "source": [
    "# #ternausnet\n",
    "# pip install torch torchvision\n",
    "# pip install opencv-python\n",
    "# pip install ternausnet"
   ]
  },
  {
   "cell_type": "code",
   "execution_count": null,
   "metadata": {
    "id": "VkFqIZcxlFsb"
   },
   "outputs": [],
   "source": [
    "# %matplotlib inline\n",
    "# from pylab import *\n",
    "# #from skimage.morphology import watershed\n",
    "# import scipy.ndimage as ndimage\n",
    "# from PIL import Image, ImagePalette\n",
    "\n",
    "# from torch.nn import functional as F\n",
    "# from torchvision.transforms import ToTensor, Normalize, Compose\n",
    "# import torch\n",
    "\n",
    "# import tifffile as tiff\n",
    "# import cv2\n",
    "# import random\n",
    "# from pathlib import Path\n",
    "\n",
    "#from models.ternausnet2 import TernausNetV2"
   ]
  },
  {
   "cell_type": "code",
   "execution_count": null,
   "metadata": {
    "id": "qDrkpEbOlGR3"
   },
   "outputs": [],
   "source": []
  },
  {
   "cell_type": "code",
   "execution_count": null,
   "metadata": {
    "id": "X9egJXVzlGU7"
   },
   "outputs": [],
   "source": []
  },
  {
   "cell_type": "code",
   "execution_count": null,
   "metadata": {
    "id": "dS5mNrkKlGX9"
   },
   "outputs": [],
   "source": []
  },
  {
   "cell_type": "code",
   "execution_count": null,
   "metadata": {
    "id": "a_YmnFWflGbO"
   },
   "outputs": [],
   "source": []
  },
  {
   "cell_type": "code",
   "execution_count": null,
   "metadata": {
    "id": "Y7NPsP77lGd7"
   },
   "outputs": [],
   "source": []
  }
 ],
 "metadata": {
  "accelerator": "GPU",
  "colab": {
   "provenance": []
  },
  "gpuClass": "standard",
  "kernelspec": {
   "display_name": "Python 3 (ipykernel)",
   "language": "python",
   "name": "python3"
  },
  "language_info": {
   "codemirror_mode": {
    "name": "ipython",
    "version": 3
   },
   "file_extension": ".py",
   "mimetype": "text/x-python",
   "name": "python",
   "nbconvert_exporter": "python",
   "pygments_lexer": "ipython3",
   "version": "3.10.6"
  }
 },
 "nbformat": 4,
 "nbformat_minor": 4
}
