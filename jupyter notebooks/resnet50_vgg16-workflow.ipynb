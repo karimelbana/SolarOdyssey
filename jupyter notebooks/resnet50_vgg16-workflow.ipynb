{
 "cells": [
  {
   "cell_type": "code",
   "execution_count": null,
   "metadata": {
    "id": "iWzzNxKvrGg6"
   },
   "outputs": [],
   "source": [
    "import numpy as np\n",
    "import pandas as pd\n",
    "from tqdm import tqdm\n",
    "from PIL import Image\n",
    "\n",
    "from tensorflow.keras import Sequential, layers, models\n",
    "from tensorflow.keras import optimizers\n",
    "from tensorflow.keras.utils import to_categorical\n",
    "from tensorflow.keras.callbacks import EarlyStopping\n",
    "from tensorflow.keras.layers.experimental.preprocessing import Rescaling\n",
    "from sklearn.model_selection import train_test_split\n",
    "\n",
    "from tensorflow.keras.applications.vgg16 import VGG16\n",
    "from tensorflow.keras.applications.vgg16 import preprocess_input as preprocess_input_vgg16\n",
    "from tensorflow.keras.preprocessing.image import ImageDataGenerator\n",
    "\n",
    "\n",
    "import matplotlib.pyplot as plt\n",
    "\n",
    "import os\n",
    "from os import walk"
   ]
  },
  {
   "cell_type": "code",
   "execution_count": null,
   "metadata": {
    "colab": {
     "base_uri": "https://localhost:8080/",
     "height": 386
    },
    "executionInfo": {
     "elapsed": 4,
     "status": "ok",
     "timestamp": 1678370561595,
     "user": {
      "displayName": "Karim Elbana",
      "userId": "03461589175412467069"
     },
     "user_tz": -60
    },
    "id": "Jq91s5u5g5ea",
    "outputId": "dbc79e9c-857e-4691-82a0-16d978f61932"
   },
   "outputs": [],
   "source": [
    "# Load DF\n",
    "df_path = \"path/to/df.csv\"\n",
    "df = pd.read_csv(df_path)"
   ]
  },
  {
   "cell_type": "code",
   "execution_count": null,
   "metadata": {
    "id": "wi3-GrNKla9j"
   },
   "outputs": [],
   "source": [
    "data_path = 'path/to/data'\n",
    "f = []\n",
    "for (dirpath, dirnames, filenames) in walk(data_path):\n",
    "    f.extend(filenames)\n",
    "    break"
   ]
  },
  {
   "cell_type": "code",
   "execution_count": null,
   "metadata": {
    "colab": {
     "base_uri": "https://localhost:8080/",
     "height": 240
    },
    "collapsed": true,
    "executionInfo": {
     "elapsed": 8,
     "status": "error",
     "timestamp": 1678449543660,
     "user": {
      "displayName": "Karim Elbana",
      "userId": "03461589175412467069"
     },
     "user_tz": -60
    },
    "id": "rZ5kufJ0lpJ5",
    "jupyter": {
     "outputs_hidden": true
    },
    "outputId": "cddba051-358c-43f1-a093-dd36ef166f7a",
    "tags": []
   },
   "outputs": [],
   "source": [
    "images_ids = []\n",
    "for filename in filenames:\n",
    "    images_ids.append(int(filename.strip('.png')))"
   ]
  },
  {
   "cell_type": "code",
   "execution_count": null,
   "metadata": {
    "id": "k_AYZXSumUf0",
    "tags": []
   },
   "outputs": [],
   "source": [
    "y = []\n",
    "for image_id in images_ids:\n",
    "    #print(id)\n",
    "    #y.append(int(df_masked_cat[df_masked_cat['Id'] == image_id].Demand.values[0]))\n",
    "    #print(int(df_masked_cat[df_masked_cat['Id'] == image_id].Demand.values[0]))\n",
    "    y.append(int(df_masked_cat[df_masked_cat['Id'] == image_id].Demand.values[0]))"
   ]
  },
  {
   "cell_type": "code",
   "execution_count": null,
   "metadata": {
    "id": "yWw6heVfW_uo"
   },
   "outputs": [],
   "source": [
    "def load_satellite_images(data_path, data_folder, y):\n",
    "        \n",
    "    data_path = data_path\n",
    "    y = np.array(y)\n",
    "    imgs = []\n",
    "    images_path = [os.path.join(data_folder, elt) for elt in os.listdir(os.path.join(data_path)) if elt.find('.png')>0]\n",
    "    \n",
    "    for path in images_path:\n",
    "        if os.path.exists(path):\n",
    "            image = Image.open(path)\n",
    "            #image = image.resize((256, 256))\n",
    "            imgs.append(np.array(image))\n",
    "\n",
    "    X = np.array(imgs)\n",
    "    X_train, X_sub, y_train, y_sub = train_test_split(X, y, test_size=0.40, random_state=42)\n",
    "    X_val, X_test, y_val, y_test = train_test_split(X_sub, y_sub, test_size=0.20, random_state=42)\n",
    "\n",
    "    return X_train, y_train, X_val, y_val, X_test, y_test"
   ]
  },
  {
   "cell_type": "code",
   "execution_count": null,
   "metadata": {
    "colab": {
     "base_uri": "https://localhost:8080/"
    },
    "executionInfo": {
     "elapsed": 6621,
     "status": "ok",
     "timestamp": 1678370581250,
     "user": {
      "displayName": "Karim Elbana",
      "userId": "03461589175412467069"
     },
     "user_tz": -60
    },
    "id": "AtIbYLQ2b6Mt",
    "outputId": "90263ace-1633-4c86-bc8f-3624d066d0ab"
   },
   "outputs": [],
   "source": [
    "data_path = 'data/high_res'\n",
    "data_folder = 'data/high_res'\n",
    "X_train, y_train, X_val, y_val, X_test, y_test = load_satellite_images(data_path, data_folder, y)"
   ]
  },
  {
   "cell_type": "code",
   "execution_count": null,
   "metadata": {
    "id": "e0mMiOareG38"
   },
   "outputs": [],
   "source": [
    "#Preprocess to match VGG16 or resnet50\n",
    "\n",
    "model_selected = 'vgg16'\n",
    "\n",
    "if model_selected == 'vgg16':\n",
    "  X_train = preprocess_input_vgg16(X_train) \n",
    "  X_val = preprocess_input_vgg16(X_val)\n",
    "  X_test = preprocess_input_vgg16(X_test)\n",
    "\n",
    "elif model_selected == 'resnet50':\n",
    "  X_train = preproc_res(X_train) \n",
    "  X_val = preproc_res(X_val)\n",
    "  X_test = preproc_res(X_test)\n"
   ]
  },
  {
   "cell_type": "code",
   "execution_count": null,
   "metadata": {
    "id": "jhlvd1uecB2Q"
   },
   "outputs": [],
   "source": [
    "#load model\n",
    "def load_model(model_selected):\n",
    "\n",
    "    model = Sequential()\n",
    "\n",
    "    if model_selected == 'vgg16':\n",
    "      model = VGG16(weights=\"imagenet\", include_top=False, input_shape=X_train[0].shape)\n",
    "    elif model_selected == 'resnet50':\n",
    "      model = ResNet50(weights='imagenet', include_top = False, input_shape=X_train[0].shape)\n",
    "    \n",
    "    print(model.summary())\n",
    "\n",
    "    return model"
   ]
  },
  {
   "cell_type": "code",
   "execution_count": null,
   "metadata": {
    "id": "SpSwTtMsdExi"
   },
   "outputs": [],
   "source": [
    "def set_nontrainable_layers(model):\n",
    "  # Set the first layers to be untrainable\n",
    "  model.trainable = False\n",
    "        \n",
    "  return model"
   ]
  },
  {
   "cell_type": "code",
   "execution_count": null,
   "metadata": {
    "id": "WcDQ38ascY85"
   },
   "outputs": [],
   "source": [
    "def add_last_layers(model):\n",
    "    '''Take a pre-trained model, set its parameters as non-trainable, and add additional trainable layers on top'''\n",
    "    base_model = set_nontrainable_layers(model)    \n",
    "    flatten_layer = layers.Flatten()\n",
    "    dense_layer = layers.Dense(30, activation='relu')\n",
    "    prediction_layer = layers.Dense(1, activation='linear')\n",
    "    \n",
    "    model_w_layers = models.Sequential([\n",
    "        model,\n",
    "        flatten_layer,\n",
    "        dense_layer,\n",
    "        prediction_layer\n",
    "    ])\n",
    "  \n",
    "    return model_w_layers"
   ]
  },
  {
   "cell_type": "code",
   "execution_count": null,
   "metadata": {
    "id": "u5u_anlecZep"
   },
   "outputs": [],
   "source": [
    "def build_model(model_selected):\n",
    "  \n",
    "  model = load_model(model_selected)\n",
    "  model = set_nontrainable_layers(model)\n",
    "  model_full = add_last_layers(model)\n",
    "  model_full.compile(loss=\"mae\", optimizer='adam', metrics='mae')\n",
    "    \n",
    "  return model_full"
   ]
  },
  {
   "cell_type": "code",
   "execution_count": null,
   "metadata": {
    "id": "GI7j8dYhnZxP"
   },
   "outputs": [],
   "source": [
    "datagen = ImageDataGenerator(\n",
    "    featurewise_center=False,\n",
    "    featurewise_std_normalization=False,\n",
    "    rotation_range=20,\n",
    "    width_shift_range=0,\n",
    "    height_shift_range=0,\n",
    "    horizontal_flip=True,\n",
    "    validation_split=0.2)\n",
    "datagen.fit(X_train)"
   ]
  },
  {
   "cell_type": "code",
   "execution_count": null,
   "metadata": {
    "colab": {
     "base_uri": "https://localhost:8080/"
    },
    "executionInfo": {
     "elapsed": 33,
     "status": "ok",
     "timestamp": 1678370658030,
     "user": {
      "displayName": "Karim Elbana",
      "userId": "03461589175412467069"
     },
     "user_tz": -60
    },
    "id": "6CDY8uzsAM5v",
    "outputId": "6fe89162-8055-4fdf-bf05-2e2b30fdf58b"
   },
   "outputs": [],
   "source": [
    "model = Sequential()\n",
    "model_built = build_model(model_selected)\n",
    "\n",
    "es = EarlyStopping(monitor = 'val_loss', \n",
    "                   patience = 10, \n",
    "                   verbose = 1, \n",
    "                   restore_best_weights = True)"
   ]
  },
  {
   "cell_type": "code",
   "execution_count": null,
   "metadata": {
    "colab": {
     "base_uri": "https://localhost:8080/"
    },
    "executionInfo": {
     "elapsed": 672208,
     "status": "ok",
     "timestamp": 1678371332720,
     "user": {
      "displayName": "Karim Elbana",
      "userId": "03461589175412467069"
     },
     "user_tz": -60
    },
    "id": "rhTiBrnSTpiX",
    "outputId": "a3effb56-7d70-48f9-932a-0754633ad751"
   },
   "outputs": [],
   "source": [
    "history = model_built.fit(datagen.flow(X_train, y_train, batch_size=32) \\\n",
    "                          , validation_data=(X_val, y_val), epochs=50, batch_size=16, callbacks=[es])"
   ]
  },
  {
   "cell_type": "code",
   "execution_count": null,
   "metadata": {
    "colab": {
     "base_uri": "https://localhost:8080/"
    },
    "executionInfo": {
     "elapsed": 2719,
     "status": "ok",
     "timestamp": 1678293137970,
     "user": {
      "displayName": "Karim Elbana",
      "userId": "03461589175412467069"
     },
     "user_tz": -60
    },
    "id": "VBoE3Uyz9P5r",
    "outputId": "03b82d49-e8dd-4808-c7ec-bafd7c5978d1"
   },
   "outputs": [],
   "source": [
    "print(model_built.evaluate(X_test, y_test, verbose=1))"
   ]
  }
 ],
 "metadata": {
  "accelerator": "GPU",
  "colab": {
   "provenance": []
  },
  "gpuClass": "standard",
  "kernelspec": {
   "display_name": "Python 3 (ipykernel)",
   "language": "python",
   "name": "python3"
  },
  "language_info": {
   "codemirror_mode": {
    "name": "ipython",
    "version": 3
   },
   "file_extension": ".py",
   "mimetype": "text/x-python",
   "name": "python",
   "nbconvert_exporter": "python",
   "pygments_lexer": "ipython3",
   "version": "3.10.6"
  }
 },
 "nbformat": 4,
 "nbformat_minor": 4
}
